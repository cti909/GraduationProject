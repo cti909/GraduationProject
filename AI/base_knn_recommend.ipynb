{
 "cells": [
  {
   "cell_type": "code",
   "execution_count": 1,
   "metadata": {},
   "outputs": [],
   "source": [
    "import numpy as np\n",
    "from sklearn.neighbors import NearestNeighbors\n",
    "# Example user-item interaction matrix (ratings from 1 to 5, 0 means no rating)\n",
    "user_item_matrix = np.array([\n",
    "    [4, 0, 0, 5, 1],\n",
    "    [5, 5, 4, 0, 0],\n",
    "    [0, 0, 0, 2, 4],\n",
    "    [0, 3, 0, 0, 5],\n",
    "    [5, 0, 4, 0, 0]\n",
    "])\n",
    "# Normalize the matrix by subtracting the mean rating of each user\n",
    "mean_user_rating = np.mean(user_item_matrix, axis=1).reshape(-1, 1)\n",
    "normalized_matrix = user_item_matrix - mean_user_rating\n",
    "# Fit the KNN model\n",
    "knn = NearestNeighbors(metric='cosine', algorithm='brute')\n",
    "knn.fit(normalized_matrix)\n",
    "# Find the k nearest neighbors for a target user (e.g., user index 0)\n",
    "target_user_index = 0\n",
    "distances, indices = knn.kneighbors(normalized_matrix[target_user_index].reshape(1, -1), n_neighbors=3)\n",
    "# Aggregate ratings from the nearest neighbors\n",
    "neighbors_ratings = user_item_matrix[indices.flatten()]\n",
    "predicted_ratings = neighbors_ratings.mean(axis=0)\n"
   ]
  },
  {
   "cell_type": "code",
   "execution_count": 2,
   "metadata": {},
   "outputs": [
    {
     "name": "stdout",
     "output_type": "stream",
     "text": [
      "Recommended items for user 0: [2 1]\n"
     ]
    }
   ],
   "source": [
    "# Recommend items with the highest predicted ratings that the target user hasn't rated\n",
    "unrated_items = np.where(user_item_matrix[target_user_index] == 0)[0]\n",
    "recommended_items = unrated_items[np.argsort(predicted_ratings[unrated_items])[::-1]]\n",
    "\n",
    "print(f\"Recommended items for user {target_user_index}: {recommended_items}\")"
   ]
  }
 ],
 "metadata": {
  "kernelspec": {
   "display_name": "Python 3",
   "language": "python",
   "name": "python3"
  },
  "language_info": {
   "codemirror_mode": {
    "name": "ipython",
    "version": 3
   },
   "file_extension": ".py",
   "mimetype": "text/x-python",
   "name": "python",
   "nbconvert_exporter": "python",
   "pygments_lexer": "ipython3",
   "version": "3.10.11"
  }
 },
 "nbformat": 4,
 "nbformat_minor": 2
}
